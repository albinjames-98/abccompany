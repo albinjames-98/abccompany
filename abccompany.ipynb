{
 "cells": [
  {
   "cell_type": "code",
   "execution_count": 22,
   "id": "3ae32140-6d5b-46be-b519-512b0389a3b8",
   "metadata": {},
   "outputs": [
    {
     "name": "stdout",
     "output_type": "stream",
     "text": [
      "            Name            Team  Number Position  Age  Height  Weight  \\\n",
      "0  Avery Bradley  Boston Celtics       0       PG   25  06-Feb     180   \n",
      "1    Jae Crowder  Boston Celtics      99       SF   25  06-Jun     235   \n",
      "2   John Holland  Boston Celtics      30       SG   27  06-May     205   \n",
      "3    R.J. Hunter  Boston Celtics      28       SG   22  06-May     185   \n",
      "4  Jonas Jerebko  Boston Celtics       8       PF   29  06-Oct     231   \n",
      "\n",
      "             College     Salary  \n",
      "0              Texas  7730337.0  \n",
      "1          Marquette  6796117.0  \n",
      "2  Boston University        NaN  \n",
      "3      Georgia State  1148640.0  \n",
      "4                NaN  5000000.0  \n",
      "\n",
      "\n",
      "\n",
      "             Name       Team  Number Position  Age  Height  Weight College  \\\n",
      "453  Shelvin Mack  Utah Jazz       8       PG   26  06-Mar     203  Butler   \n",
      "454     Raul Neto  Utah Jazz      25       PG   24  06-Jan     179     NaN   \n",
      "455  Tibor Pleiss  Utah Jazz      21        C   26  07-Mar     256     NaN   \n",
      "456   Jeff Withey  Utah Jazz      24        C   26     7-0     231  Kansas   \n",
      "457      Priyanka  Utah Jazz      34        C   25  07-Mar     231  Kansas   \n",
      "\n",
      "        Salary  \n",
      "453  2433333.0  \n",
      "454   900000.0  \n",
      "455  2900000.0  \n",
      "456   947276.0  \n",
      "457   947276.0  \n"
     ]
    }
   ],
   "source": [
    "import pandas as pd\n",
    "import numpy as np\n",
    "\n",
    "# Load the dataset\n",
    "df = pd.read_csv(r\"C:\\Users\\user\\Desktop\\data\\abc_bank.csv\")\n",
    "\n",
    "# Display the Dataset\n",
    "print(df.head())\n",
    "print(\"\\n\\n\")\n",
    "print( df.tail())"
   ]
  },
  {
   "cell_type": "code",
   "execution_count": 23,
   "id": "07ac31c8-2e14-4ad6-987d-26c94510e913",
   "metadata": {},
   "outputs": [
    {
     "name": "stdout",
     "output_type": "stream",
     "text": [
      "Team Distribution : \n",
      " Team\n",
      "New Orleans Pelicans      19\n",
      "Memphis Grizzlies         18\n",
      "Utah Jazz                 16\n",
      "New York Knicks           16\n",
      "Milwaukee Bucks           16\n",
      "Brooklyn Nets             15\n",
      "Portland Trail Blazers    15\n",
      "Oklahoma City Thunder     15\n",
      "Denver Nuggets            15\n",
      "Washington Wizards        15\n",
      "Miami Heat                15\n",
      "Charlotte Hornets         15\n",
      "Atlanta Hawks             15\n",
      "San Antonio Spurs         15\n",
      "Houston Rockets           15\n",
      "Boston Celtics            15\n",
      "Indiana Pacers            15\n",
      "Detroit Pistons           15\n",
      "Cleveland Cavaliers       15\n",
      "Chicago Bulls             15\n",
      "Sacramento Kings          15\n",
      "Phoenix Suns              15\n",
      "Los Angeles Lakers        15\n",
      "Los Angeles Clippers      15\n",
      "Golden State Warriors     15\n",
      "Toronto Raptors           15\n",
      "Philadelphia 76ers        15\n",
      "Dallas Mavericks          15\n",
      "Orlando Magic             14\n",
      "Minnesota Timberwolves    14\n",
      "Name: count, dtype: int64\n",
      "\n",
      "Percentage split :\n",
      " Team\n",
      "New Orleans Pelicans      4.148472\n",
      "Memphis Grizzlies         3.930131\n",
      "Utah Jazz                 3.493450\n",
      "New York Knicks           3.493450\n",
      "Milwaukee Bucks           3.493450\n",
      "Brooklyn Nets             3.275109\n",
      "Portland Trail Blazers    3.275109\n",
      "Oklahoma City Thunder     3.275109\n",
      "Denver Nuggets            3.275109\n",
      "Washington Wizards        3.275109\n",
      "Miami Heat                3.275109\n",
      "Charlotte Hornets         3.275109\n",
      "Atlanta Hawks             3.275109\n",
      "San Antonio Spurs         3.275109\n",
      "Houston Rockets           3.275109\n",
      "Boston Celtics            3.275109\n",
      "Indiana Pacers            3.275109\n",
      "Detroit Pistons           3.275109\n",
      "Cleveland Cavaliers       3.275109\n",
      "Chicago Bulls             3.275109\n",
      "Sacramento Kings          3.275109\n",
      "Phoenix Suns              3.275109\n",
      "Los Angeles Lakers        3.275109\n",
      "Los Angeles Clippers      3.275109\n",
      "Golden State Warriors     3.275109\n",
      "Toronto Raptors           3.275109\n",
      "Philadelphia 76ers        3.275109\n",
      "Dallas Mavericks          3.275109\n",
      "Orlando Magic             3.056769\n",
      "Minnesota Timberwolves    3.056769\n",
      "Name: count, dtype: float64\n"
     ]
    }
   ],
   "source": [
    "import pandas as pd\n",
    "import numpy as np\n",
    "\n",
    "# Load the dataset\n",
    "df = pd.read_csv(r\"C:\\Users\\user\\Desktop\\data\\abc_bank.csv\")\n",
    "\n",
    "\n",
    "# Replace 'height' column with random values between 150 and 180\n",
    "df['Height'] = np.random.randint(150, 181, size=len(df))\n",
    "\n",
    "\n",
    "# Save the updated dataset\n",
    "df.to_csv(r\"C:\\Users\\user\\Desktop\\data.csv\", index=False)\n",
    "\n",
    "# Calculate the distributation of employees across team\n",
    "team_distribution = df['Team'].value_counts()\n",
    "\n",
    "#Calculate the percentage split \n",
    "team_percentage = (team_distribution / len(df)) * 100\n",
    "\n",
    "print(\"Team Distribution : \\n\",team_distribution)\n",
    "print(\"\\nPercentage split :\\n\",team_percentage)\n",
    "\n",
    "\n",
    "\n"
   ]
  },
  {
   "cell_type": "code",
   "execution_count": 33,
   "id": "4a213afb-8189-4885-8a1d-36a32a5ef676",
   "metadata": {},
   "outputs": [
    {
     "name": "stdout",
     "output_type": "stream",
     "text": [
      "\n",
      "Position count:\n",
      " Position\n",
      "SG    102\n",
      "PF    100\n",
      "PG     92\n",
      "SF     85\n",
      "C      79\n",
      "Name: count, dtype: int64\n"
     ]
    }
   ],
   "source": [
    "# Count occurrences of each position\n",
    "position_count = df['Position'].value_counts()\n",
    "\n",
    "print(\"\\nPosition count:\\n\",position_count)"
   ]
  },
  {
   "cell_type": "code",
   "execution_count": 35,
   "id": "5515f721-4147-407b-8a95-7c088ef72db4",
   "metadata": {},
   "outputs": [
    {
     "name": "stdout",
     "output_type": "stream",
     "text": [
      "\n",
      "Age Group Count :\n",
      " Age\n",
      "18-34    4\n",
      "35-49    4\n",
      "50-64    2\n",
      "0-17     0\n",
      "Name: count, dtype: int64\n"
     ]
    }
   ],
   "source": [
    "import pandas as pd\n",
    "\n",
    "#Sample Dataset creation (replace the with your actual Dataset loading)\n",
    "data = {\"Age\":[25,45,37,29,52,31,44,55,27,38]}\n",
    "df = pd.DataFrame(data)\n",
    "\n",
    "# Create bins for age groups\n",
    "bins = [9,18,35,50,df['Age'].max()]\n",
    "labels = ['0-17','18-34','35-49','50-64']\n",
    "\n",
    "#Assign age groups\n",
    "df['Age'] = pd.cut(df['Age'],bins=bins,labels=labels,include_lowest=True)\n",
    "\n",
    "#Count occurrences of each age group\n",
    "age_group_count = df['Age'].value_counts()\n",
    "\n",
    "print(\"\\nAge Group Count :\\n\",age_group_count)"
   ]
  },
  {
   "cell_type": "code",
   "execution_count": 21,
   "id": "7aaebdf1-58db-49ec-91df-7dee42e8291a",
   "metadata": {},
   "outputs": [
    {
     "name": "stdout",
     "output_type": "stream",
     "text": [
      "\n",
      "Total salary per team :\n",
      " Team\n",
      "Atlanta Hawks              72902950.0\n",
      "Boston Celtics             58541068.0\n",
      "Brooklyn Nets              52528475.0\n",
      "Charlotte Hornets          78340920.0\n",
      "Chicago Bulls              86783378.0\n",
      "Cleveland Cavaliers       106988689.0\n",
      "Dallas Mavericks           71198732.0\n",
      "Denver Nuggets             60121930.0\n",
      "Detroit Pistons            67168263.0\n",
      "Golden State Warriors      88868997.0\n",
      "Houston Rockets            75283021.0\n",
      "Indiana Pacers             66751826.0\n",
      "Los Angeles Clippers       94854640.0\n",
      "Los Angeles Lakers         71770431.0\n",
      "Memphis Grizzlies          76550880.0\n",
      "Miami Heat                 82515673.0\n",
      "Milwaukee Bucks            69603517.0\n",
      "Minnesota Timberwolves     59709697.0\n",
      "New Orleans Pelicans       82750774.0\n",
      "New York Knicks            73303898.0\n",
      "Oklahoma City Thunder      93765298.0\n",
      "Orlando Magic              60161470.0\n",
      "Philadelphia 76ers         30992894.0\n",
      "Phoenix Suns               63445135.0\n",
      "Portland Trail Blazers     48301818.0\n",
      "Sacramento Kings           71683666.0\n",
      "San Antonio Spurs          84442733.0\n",
      "Toronto Raptors            71117611.0\n",
      "Utah Jazz                  64007367.0\n",
      "Washington Wizards         76328636.0\n",
      "Name: Salary, dtype: float64\n",
      "\n",
      "Total salary per position :\n",
      " Position\n",
      "C     466377332.0\n",
      "PF    442560850.0\n",
      "PG    446848971.0\n",
      "SF    408020976.0\n",
      "SG    396976258.0\n",
      "Name: Salary, dtype: float64\n"
     ]
    }
   ],
   "source": [
    "# Sum salaries per team and position\n",
    "salary_per_team = df.groupby('Team')['Salary'].sum()\n",
    "salary_per_position = df.groupby('Position')['Salary'].sum()\n",
    "\n",
    "print(\"\\nTotal salary per team :\\n\",salary_per_team)\n",
    "print(\"\\nTotal salary per position :\\n\",salary_per_position)\n"
   ]
  },
  {
   "cell_type": "code",
   "execution_count": 20,
   "id": "45d6563e-f690-4ab6-b592-5adbf1193ea2",
   "metadata": {},
   "outputs": [
    {
     "data": {
      "image/png": "[encoded data removed]",
      "text/plain": [
       "<Figure size 800x600 with 1 Axes>"
      ]
     },
     "metadata": {},
     "output_type": "display_data"
    }
   ],
   "source": [
    "\n",
    "import matplotlib.pyplot as plt\n",
    "import seaborn as sns\n",
    "import pandas as pd\n",
    "\n",
    "df = pd.read_csv(r\"C:\\Users\\user\\Desktop\\data\\abc_bank.csv\")\n",
    "\n",
    "plt.figure(figsize=(8,6))\n",
    "sns.scatterplot(data=df,x='Age',y='Salary')\n",
    "plt.title('Correlation between age and salary')\n",
    "plt.xlabel('Age')\n",
    "plt.ylabel('salary')\n",
    "plt.show()"
   ]
  },
  {
   "cell_type": "code",
   "execution_count": null,
   "id": "54c0899a-baae-40bb-a9a0-e2db04f733f6",
   "metadata": {},
   "outputs": [],
   "source": []
  }
 ],
 "metadata": {
  "kernelspec": {
   "display_name": "Python 3 (ipykernel)",
   "language": "python",
   "name": "python3"
  },
  "language_info": {
   "codemirror_mode": {
    "name": "ipython",
    "version": 3
   },
   "file_extension": ".py",
   "mimetype": "text/x-python",
   "name": "python",
   "nbconvert_exporter": "python",
   "pygments_lexer": "ipython3",
   "version": "3.12.2"
  }
 },
 "nbformat": 4,
 "nbformat_minor": 5
}
